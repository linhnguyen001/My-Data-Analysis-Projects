{
 "cells": [
  {
   "cell_type": "code",
   "execution_count": 1,
   "metadata": {},
   "outputs": [],
   "source": [
    "import random"
   ]
  },
  {
   "cell_type": "code",
   "execution_count": null,
   "metadata": {},
   "outputs": [],
   "source": [
    "# Create a guessing game. The computer will choose randomly one number from 1 to 10. The player will guess the number chosen by the computer.\n",
    "# If the player's guessed number is lower then the computer's chosen number, print \"Your guess is too low\"\n",
    "# If the player's guessed number is higher then the computer's chosen number, print \"Your guess is too high\"\n",
    "# If the player's guessed number is correct, print \"You got the right number after \"xx\" tries\" (xx is the count of attempts)\n",
    "# If the player makes 5 incorrect guesses, print \"Gameover!!! The number was yy\" (yy is the computer's chosen number)"
   ]
  },
  {
   "cell_type": "code",
   "execution_count": 2,
   "metadata": {},
   "outputs": [
    {
     "name": "stdout",
     "output_type": "stream",
     "text": [
      "Enter your name:Linh\n",
      "Hello Linh, welcome to the guessing game!\n"
     ]
    }
   ],
   "source": [
    "# generate random number\n",
    "import random\n",
    "yy = random.randint(1,10)\n",
    "# ask player name\n",
    "y = input(\"Enter your name:\")\n",
    "# Say hi and welcome player to the guessing game\n",
    "print(\"Hello \"+y+\", welcome to the guessing game!\")\n"
   ]
  },
  {
   "cell_type": "code",
   "execution_count": 3,
   "metadata": {},
   "outputs": [
    {
     "name": "stdout",
     "output_type": "stream",
     "text": [
      "Guess a number between 1 and 10:3\n",
      "3\n",
      "your guess is too low\n",
      "Guess a number between 1 and 10:1\n",
      "1\n",
      "your guess is too low\n",
      "Guess a number between 1 and 10:7\n",
      "7\n",
      "your guess is too low\n",
      "Guess a number between 1 and 10:4\n",
      "4\n",
      "your guess is too low\n",
      "Guess a number between 1 and 10:9\n",
      "9\n",
      "your guess is too high\n",
      "Gameover!!! The number was 8\n"
     ]
    }
   ],
   "source": [
    "# develop while loop\n",
    "z=0\n",
    "x = 1\n",
    "xx= int(x)\n",
    "while xx>=1 and xx<=10:\n",
    "\n",
    "# guess = computer number\n",
    "    x = input(\"Guess a number between 1 and 10:\")\n",
    "    print(x)\n",
    "    xx= int(x)\n",
    "    z=z+1\n",
    "    if xx>yy:\n",
    "        print(\"Your guess is too high\")\n",
    "    elif xx<yy:\n",
    "        print(\"Your guess is too low\")\n",
    "    else:\n",
    "        if z==1:   \n",
    "            print(\"You got the right number after 1 try\")\n",
    "            break\n",
    "        else:\n",
    "            print(\"You got the right number after \"+ str(z)+\" tries\")\n",
    "            break\n",
    "    # guess times > 5    \n",
    "    if z>5:\n",
    "        print(\"Gameover!!! The number was \"+str(yy))\n",
    "        break"
   ]
  },
  {
   "cell_type": "markdown",
   "metadata": {},
   "source": [
    "# "
   ]
  },
  {
   "cell_type": "code",
   "execution_count": null,
   "metadata": {},
   "outputs": [],
   "source": []
  },
  {
   "cell_type": "code",
   "execution_count": null,
   "metadata": {},
   "outputs": [],
   "source": []
  },
  {
   "cell_type": "code",
   "execution_count": null,
   "metadata": {},
   "outputs": [],
   "source": []
  },
  {
   "cell_type": "code",
   "execution_count": null,
   "metadata": {},
   "outputs": [],
   "source": []
  },
  {
   "cell_type": "code",
   "execution_count": null,
   "metadata": {},
   "outputs": [],
   "source": []
  },
  {
   "cell_type": "markdown",
   "metadata": {},
   "source": [
    "## "
   ]
  }
 ],
 "metadata": {
  "kernelspec": {
   "display_name": "Python 3 (ipykernel)",
   "language": "python",
   "name": "python3"
  },
  "language_info": {
   "codemirror_mode": {
    "name": "ipython",
    "version": 3
   },
   "file_extension": ".py",
   "mimetype": "text/x-python",
   "name": "python",
   "nbconvert_exporter": "python",
   "pygments_lexer": "ipython3",
   "version": "3.9.7"
  }
 },
 "nbformat": 4,
 "nbformat_minor": 2
}
