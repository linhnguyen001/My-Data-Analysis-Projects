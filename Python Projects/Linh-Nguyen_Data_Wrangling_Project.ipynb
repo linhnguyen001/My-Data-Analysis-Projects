{
 "cells": [
  {
   "cell_type": "code",
   "execution_count": null,
   "id": "943ddf0e",
   "metadata": {},
   "outputs": [],
   "source": [
    "# Calculate the total revenue of each product at each price. The solution must be applicable to similar datasets with large number of records\n",
    "# Datasets: prices.csv(records of product's history price changes in Sep 2018), sales.csv(records of product's sales in Sep 2018)"
   ]
  },
  {
   "cell_type": "code",
   "execution_count": 2,
   "id": "3f1e9477",
   "metadata": {},
   "outputs": [
    {
     "name": "stdout",
     "output_type": "stream",
     "text": [
      "     product_id     ordered_at  quantity_ordered  old_price  new_price  \\\n",
      "0       3998909  9/18/18 17:51                 1      15500      16500   \n",
      "1       3998909  9/18/18 17:51                 1      17000      15500   \n",
      "2       3998909  9/18/18 17:51                 1      19000      17000   \n",
      "3       3998909  9/18/18 12:52                 1      15500      16500   \n",
      "4       3998909  9/18/18 12:52                 1      17000      15500   \n",
      "..          ...            ...               ...        ...        ...   \n",
      "949     4085861  9/13/18 23:29                 1      67000      62500   \n",
      "950          64  9/11/18 19:32                 1     270000     239000   \n",
      "951          64  9/14/18 20:10                 1     270000     239000   \n",
      "952          64  9/12/18 16:00                 1     270000     239000   \n",
      "953          64  9/12/18 13:23                 1     270000     239000   \n",
      "\n",
      "        updated_at  \n",
      "0     9/16/18 5:09  \n",
      "1     9/13/18 6:43  \n",
      "2    9/10/18 16:35  \n",
      "3     9/16/18 5:09  \n",
      "4     9/13/18 6:43  \n",
      "..             ...  \n",
      "949   9/13/18 6:43  \n",
      "950  9/10/18 16:37  \n",
      "951  9/10/18 16:37  \n",
      "952  9/10/18 16:37  \n",
      "953  9/10/18 16:37  \n",
      "\n",
      "[954 rows x 6 columns]\n"
     ]
    }
   ],
   "source": [
    "import pandas as pd\n",
    "import numpy as np\n",
    "sales = pd.read_csv(\"sales.csv\")\n",
    "prices = pd.read_csv(\"prices.csv\")\n",
    "full_table = sales.merge(prices, on ='product_id', how = 'inner')\n",
    "print(full_table)"
   ]
  },
  {
   "cell_type": "code",
   "execution_count": 3,
   "id": "679a0ed5",
   "metadata": {},
   "outputs": [
    {
     "name": "stdout",
     "output_type": "stream",
     "text": [
      "0       16500\n",
      "1       16500\n",
      "2       16500\n",
      "3       16500\n",
      "4       16500\n",
      "        ...  \n",
      "949     62500\n",
      "950    239000\n",
      "951    239000\n",
      "952    239000\n",
      "953    239000\n",
      "Name: revenue, Length: 954, dtype: int64\n",
      "             revenue\n",
      "product_id          \n",
      "64            956000\n",
      "3954203      3510000\n",
      "3998909       841500\n",
      "4085861     49485000\n"
     ]
    }
   ],
   "source": [
    "full_table['ordered_at'] = pd.to_datetime(full_table['ordered_at'])\n",
    "full_table['updated_at'] = pd.to_datetime(full_table['updated_at'])\n",
    "\n",
    "\n",
    "def right_order_time (id, order):\n",
    "    order_time = full_table['updated_at'][full_table['product_id']==id]\n",
    "    if order < order_time.min():\n",
    "        real_order_time = order_time.min()\n",
    "    else:\n",
    "        real_order_time = order_time[order>order_time].max()\n",
    "    return real_order_time\n",
    "\n",
    "def right_price(id, order):\n",
    "    right_time = right_order_time(id, order)\n",
    "    if order >= right_time:\n",
    "        real_price = full_table['new_price'][(full_table['product_id']==id) & (full_table['updated_at'] == right_time)].values[0]\n",
    "    else:\n",
    "        real_price = full_table['old_price'][(full_table['product_id']==id) & (full_table['updated_at'] == right_time)].values[0]\n",
    "    return real_price\n",
    "\n",
    "\n",
    "final_price = []\n",
    "for i in np.arange(len(full_table)):\n",
    "    finalprice = right_price(full_table.iloc[i]['product_id'], full_table.iloc[i]['ordered_at']) \n",
    "    final_price.append(finalprice)\n",
    "\n",
    "full_table['price'] = final_price\n",
    "full_table['revenue'] = full_table['price'] * full_table['quantity_ordered']\n",
    "    \n",
    "print(full_table['revenue'])\n",
    "full_table.to_csv('revenue.csv')\n",
    "print(full_table.groupby('product_id').agg({'revenue':sum}))"
   ]
  },
  {
   "cell_type": "code",
   "execution_count": null,
   "id": "997dfc6d",
   "metadata": {},
   "outputs": [],
   "source": [
    "\n"
   ]
  },
  {
   "cell_type": "code",
   "execution_count": null,
   "id": "95fb7ed9",
   "metadata": {},
   "outputs": [],
   "source": []
  },
  {
   "cell_type": "code",
   "execution_count": null,
   "id": "9aa9ef39",
   "metadata": {},
   "outputs": [],
   "source": []
  },
  {
   "cell_type": "code",
   "execution_count": null,
   "id": "bcb02c4f",
   "metadata": {},
   "outputs": [],
   "source": []
  },
  {
   "cell_type": "code",
   "execution_count": null,
   "id": "76f2b72e",
   "metadata": {},
   "outputs": [],
   "source": []
  }
 ],
 "metadata": {
  "kernelspec": {
   "display_name": "Python 3 (ipykernel)",
   "language": "python",
   "name": "python3"
  },
  "language_info": {
   "codemirror_mode": {
    "name": "ipython",
    "version": 3
   },
   "file_extension": ".py",
   "mimetype": "text/x-python",
   "name": "python",
   "nbconvert_exporter": "python",
   "pygments_lexer": "ipython3",
   "version": "3.9.7"
  }
 },
 "nbformat": 4,
 "nbformat_minor": 5
}
