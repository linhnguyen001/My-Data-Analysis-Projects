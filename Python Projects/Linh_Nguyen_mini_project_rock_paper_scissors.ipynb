{
 "cells": [
  {
   "cell_type": "code",
   "execution_count": 1,
   "metadata": {},
   "outputs": [],
   "source": [
    "import random"
   ]
  },
  {
   "cell_type": "code",
   "execution_count": null,
   "metadata": {},
   "outputs": [],
   "source": [
    "# Create rock, paper, scissors game. The player will choose rock/paper/scissors randomly, and so does the computer. If the player mistypes their choice, they will be asked to retype it.\n",
    "# The computer will rechoose rock/paper/scissors after each game."
   ]
  },
  {
   "cell_type": "code",
   "execution_count": null,
   "metadata": {},
   "outputs": [
    {
     "name": "stdout",
     "output_type": "stream",
     "text": [
      "Please choose rock/paper/scissors: rock\n",
      "Better luck next time :(\n"
     ]
    }
   ],
   "source": [
    "# create array rock, paper, scissors\n",
    "x= [\"rock\",\"scissors\",\"paper\"]\n",
    "\n",
    "# computer chooses rock/paper/scissors randomly\n",
    "import random\n",
    "comp_choice = random.choice(x)\n",
    "\n",
    "# create while loop\n",
    "while comp_choice in x:\n",
    "    comp_choice = random.choice(x)\n",
    "    your_choice = input(\"Please choose rock/paper/scissors: \")\n",
    "    if your_choice not in x:\n",
    "        print(\"Please choose among rock/paper/scissors only\")\n",
    "    else:\n",
    "        if your_choice == comp_choice:\n",
    "            print(\"It's a tie\")\n",
    "        elif your_choice == \"rock\":\n",
    "            if comp_choice == \"scissors\":\n",
    "                print(\"Congratulations, you win!\")\n",
    "            else:\n",
    "                print(\"Better luck next time :(\")\n",
    "        else:\n",
    "            if your_choice == \"scissors\":\n",
    "                if comp_choice == \"rock\":\n",
    "                    print(\"Better luck next time :(\")\n",
    "                else:\n",
    "                    print(\"Congratulations, you win!\")\n",
    "            if your_choice == \"paper\":\n",
    "                if comp_choice == \"rock\":\n",
    "                    print(\"Congratulations, you win!\")\n",
    "                if comp_choice == \"scissors\":\n",
    "                    print(\"Better luck next time :(\")\n",
    "\n",
    "                \n",
    "        \n",
    "        \n"
   ]
  },
  {
   "cell_type": "code",
   "execution_count": null,
   "metadata": {},
   "outputs": [],
   "source": []
  },
  {
   "cell_type": "code",
   "execution_count": null,
   "metadata": {},
   "outputs": [],
   "source": []
  },
  {
   "cell_type": "code",
   "execution_count": null,
   "metadata": {},
   "outputs": [],
   "source": []
  },
  {
   "cell_type": "code",
   "execution_count": null,
   "metadata": {},
   "outputs": [],
   "source": []
  },
  {
   "cell_type": "code",
   "execution_count": null,
   "metadata": {},
   "outputs": [],
   "source": []
  },
  {
   "cell_type": "code",
   "execution_count": null,
   "metadata": {},
   "outputs": [],
   "source": []
  }
 ],
 "metadata": {
  "kernelspec": {
   "display_name": "Python 3 (ipykernel)",
   "language": "python",
   "name": "python3"
  },
  "language_info": {
   "codemirror_mode": {
    "name": "ipython",
    "version": 3
   },
   "file_extension": ".py",
   "mimetype": "text/x-python",
   "name": "python",
   "nbconvert_exporter": "python",
   "pygments_lexer": "ipython3",
   "version": "3.9.7"
  }
 },
 "nbformat": 4,
 "nbformat_minor": 2
}
