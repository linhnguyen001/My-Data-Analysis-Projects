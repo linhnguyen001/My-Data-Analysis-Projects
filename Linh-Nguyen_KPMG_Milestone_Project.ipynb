{
 "cells": [
  {
   "cell_type": "code",
   "execution_count": 6,
   "metadata": {},
   "outputs": [],
   "source": [
    "#data wrangling\n",
    "import pandas as pd\n",
    "\n",
    "#datetime\n",
    "import datetime as dt\n"
   ]
  },
  {
   "cell_type": "code",
   "execution_count": 7,
   "metadata": {
    "scrolled": true
   },
   "outputs": [
    {
     "name": "stdout",
     "output_type": "stream",
     "text": [
      "   transaction_id  product_id  customer_id transaction_date  online_order  \\\n",
      "0               1           2         2950       2017-02-25           0.0   \n",
      "1               2           3         3120       2017-05-21           1.0   \n",
      "2               3          37          402       2017-10-16           0.0   \n",
      "3               4          88         3135       2017-08-31           0.0   \n",
      "4               5          78          787       2017-10-01           1.0   \n",
      "\n",
      "  order_status           brand product_line product_class product_size  \\\n",
      "0     Approved           Solex     Standard        medium       medium   \n",
      "1     Approved   Trek Bicycles     Standard        medium        large   \n",
      "2     Approved      OHM Cycles     Standard           low       medium   \n",
      "3     Approved  Norco Bicycles     Standard        medium       medium   \n",
      "4     Approved  Giant Bicycles     Standard        medium        large   \n",
      "\n",
      "   list_price  standard_cost  product_first_sold_date  \n",
      "0       71.49          53.62                  41245.0  \n",
      "1     2091.47         388.92                  41701.0  \n",
      "2     1793.43         248.82                  36361.0  \n",
      "3     1198.46         381.10                  36145.0  \n",
      "4     1765.30         709.48                  42226.0  \n"
     ]
    }
   ],
   "source": [
    "# load sheet Transactions in file KPMG and print head\n",
    "transactions = pd.read_excel(\"KPMG.xlsx\", sheet_name =\"Transactions\")\n",
    "print(transactions.head())"
   ]
  },
  {
   "cell_type": "code",
   "execution_count": 8,
   "metadata": {},
   "outputs": [
    {
     "name": "stdout",
     "output_type": "stream",
     "text": [
      "<class 'pandas.core.frame.DataFrame'>\n",
      "RangeIndex: 20000 entries, 0 to 19999\n",
      "Data columns (total 13 columns):\n",
      " #   Column                   Non-Null Count  Dtype         \n",
      "---  ------                   --------------  -----         \n",
      " 0   transaction_id           20000 non-null  int64         \n",
      " 1   product_id               20000 non-null  int64         \n",
      " 2   customer_id              20000 non-null  int64         \n",
      " 3   transaction_date         20000 non-null  datetime64[ns]\n",
      " 4   online_order             19640 non-null  float64       \n",
      " 5   order_status             20000 non-null  object        \n",
      " 6   brand                    19803 non-null  object        \n",
      " 7   product_line             19803 non-null  object        \n",
      " 8   product_class            19803 non-null  object        \n",
      " 9   product_size             19803 non-null  object        \n",
      " 10  list_price               20000 non-null  float64       \n",
      " 11  standard_cost            19803 non-null  float64       \n",
      " 12  product_first_sold_date  19803 non-null  float64       \n",
      "dtypes: datetime64[ns](1), float64(4), int64(3), object(5)\n",
      "memory usage: 2.0+ MB\n",
      "None\n"
     ]
    }
   ],
   "source": [
    "# print info\n",
    "print(transactions.info())"
   ]
  },
  {
   "cell_type": "code",
   "execution_count": 9,
   "metadata": {
    "scrolled": true
   },
   "outputs": [
    {
     "name": "stdout",
     "output_type": "stream",
     "text": [
      "       transaction_id   product_id   customer_id  online_order    list_price  \\\n",
      "count    20000.000000  20000.00000  20000.000000  19640.000000  20000.000000   \n",
      "mean     10000.500000     45.36465   1738.246050      0.500458   1107.829449   \n",
      "std       5773.647028     30.75359   1011.951046      0.500013    582.825242   \n",
      "min          1.000000      0.00000      1.000000      0.000000     12.010000   \n",
      "25%       5000.750000     18.00000    857.750000      0.000000    575.270000   \n",
      "50%      10000.500000     44.00000   1736.000000      1.000000   1163.890000   \n",
      "75%      15000.250000     72.00000   2613.000000      1.000000   1635.300000   \n",
      "max      20000.000000    100.00000   5034.000000      1.000000   2091.470000   \n",
      "\n",
      "       standard_cost  product_first_sold_date  \n",
      "count   19803.000000             19803.000000  \n",
      "mean      556.046951             38199.776549  \n",
      "std       405.955660              2875.201110  \n",
      "min         7.210000             33259.000000  \n",
      "25%       215.140000             35667.000000  \n",
      "50%       507.580000             38216.000000  \n",
      "75%       795.100000             40672.000000  \n",
      "max      1759.850000             42710.000000  \n"
     ]
    }
   ],
   "source": [
    "# describe default\n",
    "print(transactions.describe())"
   ]
  },
  {
   "cell_type": "code",
   "execution_count": 24,
   "metadata": {
    "scrolled": true
   },
   "outputs": [
    {
     "data": {
      "text/html": [
       "<div>\n",
       "<style scoped>\n",
       "    .dataframe tbody tr th:only-of-type {\n",
       "        vertical-align: middle;\n",
       "    }\n",
       "\n",
       "    .dataframe tbody tr th {\n",
       "        vertical-align: top;\n",
       "    }\n",
       "\n",
       "    .dataframe thead th {\n",
       "        text-align: right;\n",
       "    }\n",
       "</style>\n",
       "<table border=\"1\" class=\"dataframe\">\n",
       "  <thead>\n",
       "    <tr style=\"text-align: right;\">\n",
       "      <th></th>\n",
       "      <th>order_status</th>\n",
       "      <th>brand</th>\n",
       "      <th>product_line</th>\n",
       "      <th>product_class</th>\n",
       "      <th>product_size</th>\n",
       "    </tr>\n",
       "  </thead>\n",
       "  <tbody>\n",
       "    <tr>\n",
       "      <th>count</th>\n",
       "      <td>20000</td>\n",
       "      <td>19803</td>\n",
       "      <td>19803</td>\n",
       "      <td>19803</td>\n",
       "      <td>19803</td>\n",
       "    </tr>\n",
       "    <tr>\n",
       "      <th>unique</th>\n",
       "      <td>2</td>\n",
       "      <td>6</td>\n",
       "      <td>4</td>\n",
       "      <td>3</td>\n",
       "      <td>3</td>\n",
       "    </tr>\n",
       "    <tr>\n",
       "      <th>top</th>\n",
       "      <td>Approved</td>\n",
       "      <td>Solex</td>\n",
       "      <td>Standard</td>\n",
       "      <td>medium</td>\n",
       "      <td>medium</td>\n",
       "    </tr>\n",
       "    <tr>\n",
       "      <th>freq</th>\n",
       "      <td>19821</td>\n",
       "      <td>4253</td>\n",
       "      <td>14176</td>\n",
       "      <td>13826</td>\n",
       "      <td>12990</td>\n",
       "    </tr>\n",
       "  </tbody>\n",
       "</table>\n",
       "</div>"
      ],
      "text/plain": [
       "       order_status  brand product_line product_class product_size\n",
       "count         20000  19803        19803         19803        19803\n",
       "unique            2      6            4             3            3\n",
       "top        Approved  Solex     Standard        medium       medium\n",
       "freq          19821   4253        14176         13826        12990"
      ]
     },
     "execution_count": 24,
     "metadata": {},
     "output_type": "execute_result"
    }
   ],
   "source": [
    "# describe objects\n",
    "transactions.describe(include='object')"
   ]
  },
  {
   "cell_type": "code",
   "execution_count": 11,
   "metadata": {
    "scrolled": false
   },
   "outputs": [
    {
     "name": "stdout",
     "output_type": "stream",
     "text": [
      "        transaction_id   product_id   customer_id     transaction_date  \\\n",
      "count     20000.000000  20000.00000  20000.000000                20000   \n",
      "unique             NaN          NaN           NaN                  364   \n",
      "top                NaN          NaN           NaN  2017-02-14 00:00:00   \n",
      "freq               NaN          NaN           NaN                   82   \n",
      "first              NaN          NaN           NaN  2017-01-01 00:00:00   \n",
      "last               NaN          NaN           NaN  2017-12-30 00:00:00   \n",
      "mean      10000.500000     45.36465   1738.246050                  NaN   \n",
      "std        5773.647028     30.75359   1011.951046                  NaN   \n",
      "min           1.000000      0.00000      1.000000                  NaN   \n",
      "25%        5000.750000     18.00000    857.750000                  NaN   \n",
      "50%       10000.500000     44.00000   1736.000000                  NaN   \n",
      "75%       15000.250000     72.00000   2613.000000                  NaN   \n",
      "max       20000.000000    100.00000   5034.000000                  NaN   \n",
      "\n",
      "        online_order order_status  brand product_line product_class  \\\n",
      "count   19640.000000        20000  19803        19803         19803   \n",
      "unique           NaN            2      6            4             3   \n",
      "top              NaN     Approved  Solex     Standard        medium   \n",
      "freq             NaN        19821   4253        14176         13826   \n",
      "first            NaN          NaN    NaN          NaN           NaN   \n",
      "last             NaN          NaN    NaN          NaN           NaN   \n",
      "mean        0.500458          NaN    NaN          NaN           NaN   \n",
      "std         0.500013          NaN    NaN          NaN           NaN   \n",
      "min         0.000000          NaN    NaN          NaN           NaN   \n",
      "25%         0.000000          NaN    NaN          NaN           NaN   \n",
      "50%         1.000000          NaN    NaN          NaN           NaN   \n",
      "75%         1.000000          NaN    NaN          NaN           NaN   \n",
      "max         1.000000          NaN    NaN          NaN           NaN   \n",
      "\n",
      "       product_size    list_price  standard_cost  product_first_sold_date  \n",
      "count         19803  20000.000000   19803.000000             19803.000000  \n",
      "unique            3           NaN            NaN                      NaN  \n",
      "top          medium           NaN            NaN                      NaN  \n",
      "freq          12990           NaN            NaN                      NaN  \n",
      "first           NaN           NaN            NaN                      NaN  \n",
      "last            NaN           NaN            NaN                      NaN  \n",
      "mean            NaN   1107.829449     556.046951             38199.776549  \n",
      "std             NaN    582.825242     405.955660              2875.201110  \n",
      "min             NaN     12.010000       7.210000             33259.000000  \n",
      "25%             NaN    575.270000     215.140000             35667.000000  \n",
      "50%             NaN   1163.890000     507.580000             38216.000000  \n",
      "75%             NaN   1635.300000     795.100000             40672.000000  \n",
      "max             NaN   2091.470000    1759.850000             42710.000000  \n"
     ]
    },
    {
     "name": "stderr",
     "output_type": "stream",
     "text": [
      "C:\\Users\\User\\AppData\\Local\\Temp/ipykernel_13208/1964731296.py:2: FutureWarning: Treating datetime data as categorical rather than numeric in `.describe` is deprecated and will be removed in a future version of pandas. Specify `datetime_is_numeric=True` to silence this warning and adopt the future behavior now.\n",
      "  print(transactions.describe(include ='all'))\n"
     ]
    }
   ],
   "source": [
    "#describe all\n",
    "print(transactions.describe(include ='all'))"
   ]
  },
  {
   "cell_type": "code",
   "execution_count": 12,
   "metadata": {
    "scrolled": true
   },
   "outputs": [
    {
     "name": "stdout",
     "output_type": "stream",
     "text": [
      "transaction_id               0\n",
      "product_id                   0\n",
      "customer_id                  0\n",
      "transaction_date             0\n",
      "online_order               360\n",
      "order_status                 0\n",
      "brand                      197\n",
      "product_line               197\n",
      "product_class              197\n",
      "product_size               197\n",
      "list_price                   0\n",
      "standard_cost              197\n",
      "product_first_sold_date    197\n",
      "dtype: int64\n"
     ]
    }
   ],
   "source": [
    "# count null in each column\n",
    "count_null = transactions.isna().sum()\n",
    "print(count_null)"
   ]
  },
  {
   "cell_type": "markdown",
   "metadata": {},
   "source": [
    "# 1. Data Correction"
   ]
  },
  {
   "cell_type": "markdown",
   "metadata": {},
   "source": [
    "## 1.1 Drop NA"
   ]
  },
  {
   "cell_type": "code",
   "execution_count": 13,
   "metadata": {
    "scrolled": true
   },
   "outputs": [
    {
     "name": "stdout",
     "output_type": "stream",
     "text": [
      "<class 'pandas.core.frame.DataFrame'>\n",
      "Int64Index: 19445 entries, 0 to 19999\n",
      "Data columns (total 13 columns):\n",
      " #   Column                   Non-Null Count  Dtype         \n",
      "---  ------                   --------------  -----         \n",
      " 0   transaction_id           19445 non-null  int64         \n",
      " 1   product_id               19445 non-null  int64         \n",
      " 2   customer_id              19445 non-null  int64         \n",
      " 3   transaction_date         19445 non-null  datetime64[ns]\n",
      " 4   online_order             19445 non-null  float64       \n",
      " 5   order_status             19445 non-null  object        \n",
      " 6   brand                    19445 non-null  object        \n",
      " 7   product_line             19445 non-null  object        \n",
      " 8   product_class            19445 non-null  object        \n",
      " 9   product_size             19445 non-null  object        \n",
      " 10  list_price               19445 non-null  float64       \n",
      " 11  standard_cost            19445 non-null  float64       \n",
      " 12  product_first_sold_date  19445 non-null  float64       \n",
      "dtypes: datetime64[ns](1), float64(4), int64(3), object(5)\n",
      "memory usage: 2.1+ MB\n",
      "None\n"
     ]
    }
   ],
   "source": [
    "# drop all null values in the table, print info, save as df_dropna_all\n",
    "df_dropna_all = transactions.dropna()\n",
    "print(df_dropna_all.info())"
   ]
  },
  {
   "cell_type": "code",
   "execution_count": 14,
   "metadata": {
    "scrolled": true
   },
   "outputs": [
    {
     "name": "stdout",
     "output_type": "stream",
     "text": [
      "<class 'pandas.core.frame.DataFrame'>\n",
      "Int64Index: 19640 entries, 0 to 19999\n",
      "Data columns (total 1 columns):\n",
      " #   Column        Non-Null Count  Dtype  \n",
      "---  ------        --------------  -----  \n",
      " 0   online_order  19640 non-null  float64\n",
      "dtypes: float64(1)\n",
      "memory usage: 306.9 KB\n",
      "None\n"
     ]
    }
   ],
   "source": [
    "# create df_dropna_online_order by dropping null values in online_order column and print info \n",
    "dropna_online_order = transactions['online_order'].dropna()\n",
    "df_dropna_online_order = dropna_online_order.to_frame()\n",
    "print(df_dropna_online_order.info())"
   ]
  },
  {
   "cell_type": "markdown",
   "metadata": {},
   "source": [
    "## 1.2 Fill NA"
   ]
  },
  {
   "cell_type": "code",
   "execution_count": 15,
   "metadata": {},
   "outputs": [
    {
     "name": "stdout",
     "output_type": "stream",
     "text": [
      "<class 'pandas.core.frame.DataFrame'>\n",
      "RangeIndex: 20000 entries, 0 to 19999\n",
      "Data columns (total 13 columns):\n",
      " #   Column                   Non-Null Count  Dtype         \n",
      "---  ------                   --------------  -----         \n",
      " 0   transaction_id           20000 non-null  int64         \n",
      " 1   product_id               20000 non-null  int64         \n",
      " 2   customer_id              20000 non-null  int64         \n",
      " 3   transaction_date         20000 non-null  datetime64[ns]\n",
      " 4   online_order             20000 non-null  float64       \n",
      " 5   order_status             20000 non-null  object        \n",
      " 6   brand                    20000 non-null  object        \n",
      " 7   product_line             20000 non-null  object        \n",
      " 8   product_class            20000 non-null  object        \n",
      " 9   product_size             20000 non-null  object        \n",
      " 10  list_price               20000 non-null  float64       \n",
      " 11  standard_cost            20000 non-null  float64       \n",
      " 12  product_first_sold_date  20000 non-null  float64       \n",
      "dtypes: datetime64[ns](1), float64(4), int64(3), object(5)\n",
      "memory usage: 2.0+ MB\n",
      "None\n"
     ]
    }
   ],
   "source": [
    "#  fill all NA with 0, create df_fillna_0 table and print info\n",
    "df_fillna_0 = transactions.fillna(0)\n",
    "print(df_fillna_0.info())"
   ]
  },
  {
   "cell_type": "code",
   "execution_count": 16,
   "metadata": {},
   "outputs": [
    {
     "name": "stdout",
     "output_type": "stream",
     "text": [
      "<class 'pandas.core.frame.DataFrame'>\n",
      "RangeIndex: 20000 entries, 0 to 19999\n",
      "Data columns (total 13 columns):\n",
      " #   Column                   Non-Null Count  Dtype         \n",
      "---  ------                   --------------  -----         \n",
      " 0   transaction_id           20000 non-null  int64         \n",
      " 1   product_id               20000 non-null  int64         \n",
      " 2   customer_id              20000 non-null  int64         \n",
      " 3   transaction_date         20000 non-null  datetime64[ns]\n",
      " 4   online_order             20000 non-null  float64       \n",
      " 5   order_status             20000 non-null  object        \n",
      " 6   brand                    20000 non-null  object        \n",
      " 7   product_line             20000 non-null  object        \n",
      " 8   product_class            20000 non-null  object        \n",
      " 9   product_size             20000 non-null  object        \n",
      " 10  list_price               20000 non-null  float64       \n",
      " 11  standard_cost            20000 non-null  float64       \n",
      " 12  product_first_sold_date  20000 non-null  float64       \n",
      "dtypes: datetime64[ns](1), float64(4), int64(3), object(5)\n",
      "memory usage: 2.0+ MB\n",
      "None\n"
     ]
    }
   ],
   "source": [
    "df_fillna_ffill =transactions.ffill()\n",
    "print(df_fillna_ffill.info())"
   ]
  },
  {
   "cell_type": "raw",
   "metadata": {},
   "source": []
  },
  {
   "cell_type": "code",
   "execution_count": 17,
   "metadata": {
    "scrolled": true
   },
   "outputs": [
    {
     "name": "stdout",
     "output_type": "stream",
     "text": [
      "<class 'pandas.core.frame.DataFrame'>\n",
      "RangeIndex: 20000 entries, 0 to 19999\n",
      "Data columns (total 13 columns):\n",
      " #   Column                   Non-Null Count  Dtype         \n",
      "---  ------                   --------------  -----         \n",
      " 0   transaction_id           20000 non-null  int64         \n",
      " 1   product_id               20000 non-null  int64         \n",
      " 2   customer_id              20000 non-null  int64         \n",
      " 3   transaction_date         20000 non-null  datetime64[ns]\n",
      " 4   online_order             20000 non-null  float64       \n",
      " 5   order_status             20000 non-null  object        \n",
      " 6   brand                    20000 non-null  object        \n",
      " 7   product_line             20000 non-null  object        \n",
      " 8   product_class            20000 non-null  object        \n",
      " 9   product_size             20000 non-null  object        \n",
      " 10  list_price               20000 non-null  float64       \n",
      " 11  standard_cost            20000 non-null  float64       \n",
      " 12  product_first_sold_date  20000 non-null  float64       \n",
      "dtypes: datetime64[ns](1), float64(4), int64(3), object(5)\n",
      "memory usage: 2.0+ MB\n",
      "None\n"
     ]
    }
   ],
   "source": [
    "# fill NA with bfill, save as df_fillna_bfill and print info\n",
    "df_fillna_bfill = transactions.bfill()\n",
    "print(df_fillna_bfill.info())"
   ]
  },
  {
   "cell_type": "markdown",
   "metadata": {},
   "source": [
    "## 1.3. Assess Categorial Data"
   ]
  },
  {
   "cell_type": "code",
   "execution_count": 18,
   "metadata": {
    "scrolled": false
   },
   "outputs": [
    {
     "name": "stdout",
     "output_type": "stream",
     "text": [
      "   customer_id first_name  last_name gender  \\\n",
      "0            1    Laraine  Medendorp      F   \n",
      "\n",
      "   past_3_years_bike_related_purchases        DOB            job_title  \\\n",
      "0                                   93 1953-10-12  Executive Secretary   \n",
      "\n",
      "  job_industry_category wealth_segment deceased_indicator default owns_car  \\\n",
      "0                Health  Mass Customer                  N      \"'      Yes   \n",
      "\n",
      "   tenure  \n",
      "0    11.0  \n"
     ]
    },
    {
     "name": "stderr",
     "output_type": "stream",
     "text": [
      "C:\\Users\\User\\AppData\\Local\\Temp/ipykernel_13208/2549877813.py:2: FutureWarning: Inferring datetime64[ns] from data containing strings is deprecated and will be removed in a future version. To retain the old behavior explicitly pass Series(data, dtype={value.dtype})\n",
      "  demographic = pd.read_excel(\"KPMG.xlsx\", sheet_name =\"CustomerDemographic\")\n"
     ]
    }
   ],
   "source": [
    "# load sheet Demographic and print top head\n",
    "demographic = pd.read_excel(\"KPMG.xlsx\", sheet_name =\"CustomerDemographic\")\n",
    "print(demographic.head(1))"
   ]
  },
  {
   "cell_type": "code",
   "execution_count": 19,
   "metadata": {},
   "outputs": [
    {
     "name": "stdout",
     "output_type": "stream",
     "text": [
      "<class 'pandas.core.frame.DataFrame'>\n",
      "RangeIndex: 4000 entries, 0 to 3999\n",
      "Data columns (total 13 columns):\n",
      " #   Column                               Non-Null Count  Dtype         \n",
      "---  ------                               --------------  -----         \n",
      " 0   customer_id                          4000 non-null   int64         \n",
      " 1   first_name                           4000 non-null   object        \n",
      " 2   last_name                            3875 non-null   object        \n",
      " 3   gender                               4000 non-null   object        \n",
      " 4   past_3_years_bike_related_purchases  4000 non-null   int64         \n",
      " 5   DOB                                  3913 non-null   datetime64[ns]\n",
      " 6   job_title                            3494 non-null   object        \n",
      " 7   job_industry_category                3344 non-null   object        \n",
      " 8   wealth_segment                       4000 non-null   object        \n",
      " 9   deceased_indicator                   4000 non-null   object        \n",
      " 10  default                              3698 non-null   object        \n",
      " 11  owns_car                             4000 non-null   object        \n",
      " 12  tenure                               3913 non-null   float64       \n",
      "dtypes: datetime64[ns](1), float64(1), int64(2), object(9)\n",
      "memory usage: 406.4+ KB\n",
      "None\n"
     ]
    }
   ],
   "source": [
    "# print info\n",
    "print(demographic.info())"
   ]
  },
  {
   "cell_type": "code",
   "execution_count": 20,
   "metadata": {
    "scrolled": false
   },
   "outputs": [
    {
     "name": "stdout",
     "output_type": "stream",
     "text": [
      "       customer_id  past_3_years_bike_related_purchases       tenure\n",
      "count  4000.000000                          4000.000000  3913.000000\n",
      "mean   2000.500000                            48.890000    10.657041\n",
      "std    1154.844867                            28.715005     5.660146\n",
      "min       1.000000                             0.000000     1.000000\n",
      "25%    1000.750000                            24.000000     6.000000\n",
      "50%    2000.500000                            48.000000    11.000000\n",
      "75%    3000.250000                            73.000000    15.000000\n",
      "max    4000.000000                            99.000000    22.000000\n"
     ]
    }
   ],
   "source": [
    "# describe objects\n",
    "print(demographic.describe())"
   ]
  },
  {
   "cell_type": "code",
   "execution_count": 21,
   "metadata": {},
   "outputs": [
    {
     "name": "stdout",
     "output_type": "stream",
     "text": [
      "      customer_id first_name  last_name  gender  \\\n",
      "0               1    Laraine  Medendorp       F   \n",
      "1               2        Eli    Bockman    Male   \n",
      "2               3      Arlin     Dearle    Male   \n",
      "8               9       Mala       Lind  Female   \n",
      "9              10   Fiorenze    Birdall  Female   \n",
      "...           ...        ...        ...     ...   \n",
      "3992         3993       Andi    Dumelow  Female   \n",
      "3993         3994    Stephie      Byars  Female   \n",
      "3994         3995      Rusty     Iapico    Male   \n",
      "3995         3996    Rosalia   Halgarth  Female   \n",
      "3996         3997     Blanch     Nisuis  Female   \n",
      "\n",
      "      past_3_years_bike_related_purchases        DOB  \\\n",
      "0                                      93 1953-10-12   \n",
      "1                                      81 1980-12-16   \n",
      "2                                      61 1954-01-20   \n",
      "8                                      97 1973-03-10   \n",
      "9                                      49 1988-10-11   \n",
      "...                                   ...        ...   \n",
      "3992                                    6 1974-12-05   \n",
      "3993                                    5 1989-04-07   \n",
      "3994                                   93 1975-12-12   \n",
      "3995                                    8 1975-08-09   \n",
      "3996                                   87 2001-07-13   \n",
      "\n",
      "                                 job_title job_industry_category  \\\n",
      "0                      Executive Secretary                Health   \n",
      "1                   Administrative Officer    Financial Services   \n",
      "2                       Recruiting Manager              Property   \n",
      "8     Business Systems Development Analyst           Argiculture   \n",
      "9                  Senior Quality Engineer    Financial Services   \n",
      "...                                    ...                   ...   \n",
      "3992                             Librarian         Entertainment   \n",
      "3993          Structural Analysis Engineer         Manufacturing   \n",
      "3994                       Staff Scientist         Manufacturing   \n",
      "3995                 VP Product Management                Health   \n",
      "3996                       Statistician II         Manufacturing   \n",
      "\n",
      "         wealth_segment deceased_indicator                       default  \\\n",
      "0         Mass Customer                  N                            \"'   \n",
      "1         Mass Customer                  N  <script>alert('hi')</script>   \n",
      "2         Mass Customer                  N           2018-02-01 00:00:00   \n",
      "8     Affluent Customer                  N                           0/0   \n",
      "9         Mass Customer                  N                          ð©ð½   \n",
      "...                 ...                ...                           ...   \n",
      "3992      Mass Customer                  N                            á    \n",
      "3993  Affluent Customer                  N                          -100   \n",
      "3994      Mass Customer                  N                            á    \n",
      "3995      Mass Customer                  N                          -100   \n",
      "3996     High Net Worth                  N                      â¦testâ§   \n",
      "\n",
      "     owns_car  tenure  \n",
      "0         Yes    11.0  \n",
      "1         Yes    16.0  \n",
      "2         Yes    15.0  \n",
      "8         Yes     8.0  \n",
      "9         Yes    20.0  \n",
      "...       ...     ...  \n",
      "3992       No    10.0  \n",
      "3993       No    12.0  \n",
      "3994      Yes    14.0  \n",
      "3995       No    19.0  \n",
      "3996      Yes     1.0  \n",
      "\n",
      "[2630 rows x 13 columns]\n"
     ]
    }
   ],
   "source": [
    "# Remove all NA row\n",
    "print(demographic.dropna())"
   ]
  },
  {
   "cell_type": "code",
   "execution_count": 22,
   "metadata": {},
   "outputs": [
    {
     "name": "stdout",
     "output_type": "stream",
     "text": [
      "['Female', 'U', 'M', 'Femal', 'Male', 'F']\n"
     ]
    }
   ],
   "source": [
    "# print unique values of gender column\n",
    "gender_unique = list(set(demographic['gender']))\n",
    "print(gender_unique)"
   ]
  },
  {
   "cell_type": "code",
   "execution_count": 25,
   "metadata": {},
   "outputs": [
    {
     "name": "stdout",
     "output_type": "stream",
     "text": [
      "0       Female\n",
      "1         Male\n",
      "2         Male\n",
      "3         Male\n",
      "4       Female\n",
      "         ...  \n",
      "3995    Female\n",
      "3996    Female\n",
      "3997    Unisex\n",
      "3998      Male\n",
      "3999      Male\n",
      "Name: gender, Length: 4000, dtype: object\n"
     ]
    }
   ],
   "source": [
    "# categorize gender column into Male, Female, Unisex groups. Print new unique values\n",
    "unique_value = demographic['gender'].replace({\"F\": \"Female\", \"Femal\": \"Female\", \"M\":\"Male\", \"U\":\"Unisex\"})\n",
    "print(unique_value)\n"
   ]
  },
  {
   "cell_type": "code",
   "execution_count": 19,
   "metadata": {},
   "outputs": [
    {
     "name": "stdout",
     "output_type": "stream",
     "text": [
      "20.0\n",
      "178.0\n"
     ]
    }
   ],
   "source": [
    "# calculate each customer's age, save as \"Age\" column, print min age, max age\n",
    "\n",
    "from datetime import datetime\n",
    "import numpy as np\n",
    "customer_age =[]\n",
    "for i in np.arange(len(demographic)):\n",
    "    current_time = datetime.today()\n",
    "    birthday = demographic.iloc[i]['DOB']\n",
    "    age = current_time.year - birthday.year-((current_time.month, current_time.day)<(birthday.month, birthday.day))\n",
    "    customer_age.append(age)\n",
    "\n",
    "demographic['age'] = customer_age\n",
    "print(demographic['age'].min())\n",
    "print(demographic['age'].max())"
   ]
  },
  {
   "cell_type": "code",
   "execution_count": 20,
   "metadata": {},
   "outputs": [
    {
     "name": "stdout",
     "output_type": "stream",
     "text": [
      "       age Age_Group\n",
      "0     68.0     Older\n",
      "1     41.0    Middle\n",
      "2     68.0     Older\n",
      "3     60.0     Older\n",
      "4     45.0    Middle\n",
      "...    ...       ...\n",
      "3995  46.0    Middle\n",
      "3996  20.0     Young\n",
      "3997   NaN       NaN\n",
      "3998  48.0    Middle\n",
      "3999  30.0     Young\n",
      "\n",
      "[4000 rows x 2 columns]\n"
     ]
    }
   ],
   "source": [
    "# categorize customers under 35 years old as \"Young\", 36-55 as \"Middle\", over 55 as \"Older\", save as \"Age_Group\" column\n",
    "\n",
    "demographic['Age_Group'] = pd.cut(x=demographic['age'], bins = [0,35,55,100], labels =['Young','Middle','Older'])\n",
    "print(demographic[['age','Age_Group']])\n"
   ]
  },
  {
   "cell_type": "markdown",
   "metadata": {},
   "source": [
    "# 2. Data Completeness"
   ]
  },
  {
   "cell_type": "code",
   "execution_count": 21,
   "metadata": {
    "scrolled": true
   },
   "outputs": [
    {
     "name": "stdout",
     "output_type": "stream",
     "text": [
      "       transaction_id  product_id  customer_id transaction_date  online_order  \\\n",
      "8707             8708           0         5034       2017-10-07           0.0   \n",
      "16700           16701           0         5034       2017-01-27           0.0   \n",
      "17468           17469           0         5034       2017-01-03           0.0   \n",
      "\n",
      "      order_status           brand product_line product_class product_size  \\\n",
      "8707      Approved           Solex         Road        medium       medium   \n",
      "16700     Approved  Norco Bicycles     Standard        medium       medium   \n",
      "17468     Approved      OHM Cycles         Road        medium       medium   \n",
      "\n",
      "       ...  DOB  job_title  job_industry_category wealth_segment  \\\n",
      "8707   ...  NaT        NaN                    NaN            NaN   \n",
      "16700  ...  NaT        NaN                    NaN            NaN   \n",
      "17468  ...  NaT        NaN                    NaN            NaN   \n",
      "\n",
      "      deceased_indicator default  owns_car tenure age Age_Group  \n",
      "8707                 NaN     NaN       NaN    NaN NaN       NaN  \n",
      "16700                NaN     NaN       NaN    NaN NaN       NaN  \n",
      "17468                NaN     NaN       NaN    NaN NaN       NaN  \n",
      "\n",
      "[3 rows x 27 columns]\n"
     ]
    }
   ],
   "source": [
    "#join sale with demographic and print missing values in demographic \n",
    "sale_demo = transactions.merge(demographic, how =\"left\", on=\"customer_id\")\n",
    "print(sale_demo[sale_demo['first_name'].isna()])"
   ]
  },
  {
   "cell_type": "code",
   "execution_count": null,
   "metadata": {},
   "outputs": [],
   "source": []
  },
  {
   "cell_type": "markdown",
   "metadata": {},
   "source": [
    "# 3. Data Aggregation"
   ]
  },
  {
   "cell_type": "code",
   "execution_count": 22,
   "metadata": {
    "scrolled": true
   },
   "outputs": [
    {
     "name": "stdout",
     "output_type": "stream",
     "text": [
      "4000\n"
     ]
    }
   ],
   "source": [
    "# calculate total number of customers\n",
    "total_customers = demographic['customer_id'].nunique(dropna=True)\n",
    "print(total_customers)"
   ]
  },
  {
   "cell_type": "code",
   "execution_count": 23,
   "metadata": {
    "scrolled": true
   },
   "outputs": [
    {
     "name": "stdout",
     "output_type": "stream",
     "text": [
      "year_month\n",
      "April 2017        1310\n",
      "August 2017       1372\n",
      "December 2017     1322\n",
      "February 2017     1286\n",
      "January 2017      1354\n",
      "July 2017         1354\n",
      "June 2017         1266\n",
      "March 2017        1317\n",
      "May 2017          1310\n",
      "November 2017     1319\n",
      "October 2017      1414\n",
      "September 2017    1263\n",
      "Name: customer_id, dtype: int64\n"
     ]
    }
   ],
   "source": [
    "# calculate number of customers each month\n",
    "transaction_date = transactions['transaction_date']\n",
    "transactions['year_month'] = transaction_date.dt.strftime('%B %Y')\n",
    "monthly_customer = transactions['customer_id'].groupby(transactions['year_month']).nunique(dropna=True)\n",
    "print(monthly_customer)"
   ]
  },
  {
   "cell_type": "code",
   "execution_count": 24,
   "metadata": {
    "scrolled": true
   },
   "outputs": [
    {
     "name": "stdout",
     "output_type": "stream",
     "text": [
      "year_month\n",
      "April 2017        904691.310000\n",
      "August 2017       970452.520000\n",
      "December 2017     891454.070000\n",
      "February 2017     870819.060000\n",
      "January 2017      929487.739988\n",
      "July 2017         938619.290000\n",
      "June 2017         859571.550000\n",
      "March 2017        879243.400000\n",
      "May 2017          913742.610000\n",
      "November 2017     924938.460000\n",
      "October 2017      984973.464984\n",
      "September 2017    862290.490000\n",
      "dtype: float64\n"
     ]
    }
   ],
   "source": [
    "# calculate monthly gross margin. Gross margin = list_price - standard_cost\n",
    "gross_margin = transactions['list_price'] - transactions['standard_cost']\n",
    "# print(gross_margin)\n",
    "monthly_gm = gross_margin.groupby(transactions['year_month']).agg(sum)\n",
    "print(monthly_gm)"
   ]
  },
  {
   "cell_type": "code",
   "execution_count": 25,
   "metadata": {
    "scrolled": false
   },
   "outputs": [
    {
     "name": "stdout",
     "output_type": "stream",
     "text": [
      "order_status\n",
      "Approved     19467\n",
      "Cancelled      173\n",
      "Name: online_order, dtype: int64\n",
      "Total revenue: 21954196.689999998\n"
     ]
    }
   ],
   "source": [
    " # calculate number of orders and revenue, group by online_order and order_status\n",
    "\n",
    "order_quantity = transactions['online_order'].groupby(transactions['order_status']).count()\n",
    "print(order_quantity)\n",
    "revenue = transactions['list_price'][transactions['order_status']=='Approved'].sum()\n",
    "print(\"Total revenue:\",revenue)\n",
    "    \n",
    "    "
   ]
  },
  {
   "cell_type": "markdown",
   "metadata": {},
   "source": [
    "# 4. Data Visualization"
   ]
  },
  {
   "cell_type": "code",
   "execution_count": 120,
   "metadata": {
    "scrolled": true
   },
   "outputs": [
    {
     "data": {
      "image/png": "[encoded data removed]",
      "text/plain": [
       "<Figure size 432x288 with 1 Axes>"
      ]
     },
     "metadata": {},
     "output_type": "display_data"
    }
   ],
   "source": [
    "# create 5 different types of chart using seaborn\n",
    "import seaborn as sns\n",
    "import matplotlib.pyplot as plt\n",
    "\n",
    "gross_margin = transactions['list_price'] - transactions['standard_cost']\n",
    "\n",
    "p = sns.boxplot(x = transactions['brand'], y = gross_margin,)\n",
    "p.set_xlabel(\"Brand\")\n",
    "p.set_ylabel(\"Gross Margin\")\n",
    "p.set_title(\"Gross Margin by Brand\")\n",
    "plt.show()"
   ]
  },
  {
   "cell_type": "code",
   "execution_count": 45,
   "metadata": {},
   "outputs": [
    {
     "data": {
      "image/png": "[encoded data removed]",
      "text/plain": [
       "<Figure size 432x288 with 1 Axes>"
      ]
     },
     "metadata": {},
     "output_type": "display_data"
    }
   ],
   "source": [
    "p = sns.barplot(x=demographic['wealth_segment'], y=transactions['list_price'])\n",
    "p.set_xlabel(\"Customers' Wealth Segment\")\n",
    "p.set_ylabel(\"Total Revenue\")\n",
    "p.set_title(\"Total Revenue by Customers' Wealth Segment\")\n",
    "p.bar_label(p.containers[0])\n",
    "plt.show()"
   ]
  },
  {
   "cell_type": "code",
   "execution_count": 52,
   "metadata": {},
   "outputs": [
    {
     "data": {
      "image/png": "[encoded data removed]",
      "text/plain": [
       "<Figure size 432x288 with 1 Axes>"
      ]
     },
     "metadata": {},
     "output_type": "display_data"
    }
   ],
   "source": [
    "total_gm = gross_margin.groupby(demographic['age']).sum()\n",
    "sns.set_theme(style=\"whitegrid\")\n",
    "s = sns.scatterplot(x=demographic['age'], y=total_gm)\n",
    "s.set_xlabel(\"Age\")\n",
    "s.set_ylabel(\"Total Gross Margin\")\n",
    "s.set_title(\"Total Gross Mrgin by Age\")\n",
    "plt.show()"
   ]
  },
  {
   "cell_type": "code",
   "execution_count": 53,
   "metadata": {},
   "outputs": [
    {
     "data": {
      "image/png": "[encoded data removed]",
      "text/plain": [
       "<Figure size 432x288 with 1 Axes>"
      ]
     },
     "metadata": {},
     "output_type": "display_data"
    }
   ],
   "source": [
    "l = sns.lineplot(y=transactions['list_price'], x=transactions['year_month'])\n",
    "l.set_xlabel(\"Month\")\n",
    "l.set_ylabel(\"Total Revenue\")\n",
    "l.set_title(\"Total Revenue by Month\")\n",
    "plt.show()"
   ]
  },
  {
   "cell_type": "code",
   "execution_count": 112,
   "metadata": {},
   "outputs": [
    {
     "name": "stdout",
     "output_type": "stream",
     "text": [
      "product_size\n",
      "large      3900\n",
      "medium    12767\n",
      "small      2778\n",
      "Name: online_order, dtype: int64\n"
     ]
    },
    {
     "data": {
      "image/png": "[encoded data removed]",
      "text/plain": [
       "<Figure size 432x288 with 1 Axes>"
      ]
     },
     "metadata": {},
     "output_type": "display_data"
    }
   ],
   "source": [
    "order = transactions['online_order'].groupby(transactions['product_size']).count()\n",
    "print(order)\n",
    "pie =plt.pie(order, labels=order.index, autopct='%.1f%%')\n",
    "plt.title(\"Percentage of Orders by Product Size\")\n",
    "plt.show()"
   ]
  },
  {
   "cell_type": "code",
   "execution_count": null,
   "metadata": {},
   "outputs": [],
   "source": []
  },
  {
   "cell_type": "code",
   "execution_count": null,
   "metadata": {},
   "outputs": [],
   "source": []
  },
  {
   "cell_type": "code",
   "execution_count": null,
   "metadata": {},
   "outputs": [],
   "source": []
  }
 ],
 "metadata": {
  "kernelspec": {
   "display_name": "Python 3 (ipykernel)",
   "language": "python",
   "name": "python3"
  },
  "language_info": {
   "codemirror_mode": {
    "name": "ipython",
    "version": 3
   },
   "file_extension": ".py",
   "mimetype": "text/x-python",
   "name": "python",
   "nbconvert_exporter": "python",
   "pygments_lexer": "ipython3",
   "version": "3.9.7"
  }
 },
 "nbformat": 4,
 "nbformat_minor": 2
}
